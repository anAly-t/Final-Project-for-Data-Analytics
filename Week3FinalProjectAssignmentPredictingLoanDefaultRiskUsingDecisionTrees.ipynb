{
 "cells": [
  {
   "cell_type": "code",
   "execution_count": 1,
   "id": "9e884fb9-4c50-4755-a783-92b06981032e",
   "metadata": {},
   "outputs": [
    {
     "name": "stderr",
     "output_type": "stream",
     "text": [
      "/var/folders/bq/h8xt131n1hq10lhdtgj7xd380000gn/T/ipykernel_61988/4209271659.py:13: DtypeWarning: Columns (135,204,274,417) have mixed types. Specify dtype option on import or set low_memory=False.\n",
      "  data = pd.read_csv('train_v2.csv')\n"
     ]
    },
    {
     "name": "stdout",
     "output_type": "stream",
     "text": [
      "<class 'pandas.core.frame.DataFrame'>\n",
      "RangeIndex: 105471 entries, 0 to 105470\n",
      "Columns: 771 entries, id to loss\n",
      "dtypes: float64(653), int64(99), object(19)\n",
      "memory usage: 620.4+ MB\n"
     ]
    },
    {
     "ename": "KeyError",
     "evalue": "\"['risk_level'] not found in axis\"",
     "output_type": "error",
     "traceback": [
      "\u001b[0;31m---------------------------------------------------------------------------\u001b[0m",
      "\u001b[0;31mKeyError\u001b[0m                                  Traceback (most recent call last)",
      "Cell \u001b[0;32mIn[1], line 27\u001b[0m\n\u001b[1;32m     16\u001b[0m data\u001b[38;5;241m.\u001b[39minfo()\n\u001b[1;32m     18\u001b[0m \u001b[38;5;66;03m# Step 2: Preprocess the data\u001b[39;00m\n\u001b[1;32m     19\u001b[0m \u001b[38;5;66;03m# Handle missing values, categorical encoding, feature scaling, etc.\u001b[39;00m\n\u001b[1;32m     20\u001b[0m \u001b[38;5;66;03m# Here we assume 'risk_level' is the target, and other columns are features\u001b[39;00m\n\u001b[0;32m   (...)\u001b[0m\n\u001b[1;32m     25\u001b[0m \n\u001b[1;32m     26\u001b[0m \u001b[38;5;66;03m# Separate features and target variable\u001b[39;00m\n\u001b[0;32m---> 27\u001b[0m X \u001b[38;5;241m=\u001b[39m data\u001b[38;5;241m.\u001b[39mdrop(\u001b[38;5;124m'\u001b[39m\u001b[38;5;124mrisk_level\u001b[39m\u001b[38;5;124m'\u001b[39m, axis\u001b[38;5;241m=\u001b[39m\u001b[38;5;241m1\u001b[39m)\n\u001b[1;32m     28\u001b[0m y \u001b[38;5;241m=\u001b[39m data[\u001b[38;5;124m'\u001b[39m\u001b[38;5;124mrisk_level\u001b[39m\u001b[38;5;124m'\u001b[39m]\n\u001b[1;32m     31\u001b[0m \u001b[38;5;66;03m# Step 3: Train a classifier\u001b[39;00m\n",
      "File \u001b[0;32m/opt/anaconda3/lib/python3.12/site-packages/pandas/core/frame.py:5581\u001b[0m, in \u001b[0;36mDataFrame.drop\u001b[0;34m(self, labels, axis, index, columns, level, inplace, errors)\u001b[0m\n\u001b[1;32m   5433\u001b[0m \u001b[38;5;28;01mdef\u001b[39;00m \u001b[38;5;21mdrop\u001b[39m(\n\u001b[1;32m   5434\u001b[0m     \u001b[38;5;28mself\u001b[39m,\n\u001b[1;32m   5435\u001b[0m     labels: IndexLabel \u001b[38;5;241m|\u001b[39m \u001b[38;5;28;01mNone\u001b[39;00m \u001b[38;5;241m=\u001b[39m \u001b[38;5;28;01mNone\u001b[39;00m,\n\u001b[0;32m   (...)\u001b[0m\n\u001b[1;32m   5442\u001b[0m     errors: IgnoreRaise \u001b[38;5;241m=\u001b[39m \u001b[38;5;124m\"\u001b[39m\u001b[38;5;124mraise\u001b[39m\u001b[38;5;124m\"\u001b[39m,\n\u001b[1;32m   5443\u001b[0m ) \u001b[38;5;241m-\u001b[39m\u001b[38;5;241m>\u001b[39m DataFrame \u001b[38;5;241m|\u001b[39m \u001b[38;5;28;01mNone\u001b[39;00m:\n\u001b[1;32m   5444\u001b[0m \u001b[38;5;250m    \u001b[39m\u001b[38;5;124;03m\"\"\"\u001b[39;00m\n\u001b[1;32m   5445\u001b[0m \u001b[38;5;124;03m    Drop specified labels from rows or columns.\u001b[39;00m\n\u001b[1;32m   5446\u001b[0m \n\u001b[0;32m   (...)\u001b[0m\n\u001b[1;32m   5579\u001b[0m \u001b[38;5;124;03m            weight  1.0     0.8\u001b[39;00m\n\u001b[1;32m   5580\u001b[0m \u001b[38;5;124;03m    \"\"\"\u001b[39;00m\n\u001b[0;32m-> 5581\u001b[0m     \u001b[38;5;28;01mreturn\u001b[39;00m \u001b[38;5;28msuper\u001b[39m()\u001b[38;5;241m.\u001b[39mdrop(\n\u001b[1;32m   5582\u001b[0m         labels\u001b[38;5;241m=\u001b[39mlabels,\n\u001b[1;32m   5583\u001b[0m         axis\u001b[38;5;241m=\u001b[39maxis,\n\u001b[1;32m   5584\u001b[0m         index\u001b[38;5;241m=\u001b[39mindex,\n\u001b[1;32m   5585\u001b[0m         columns\u001b[38;5;241m=\u001b[39mcolumns,\n\u001b[1;32m   5586\u001b[0m         level\u001b[38;5;241m=\u001b[39mlevel,\n\u001b[1;32m   5587\u001b[0m         inplace\u001b[38;5;241m=\u001b[39minplace,\n\u001b[1;32m   5588\u001b[0m         errors\u001b[38;5;241m=\u001b[39merrors,\n\u001b[1;32m   5589\u001b[0m     )\n",
      "File \u001b[0;32m/opt/anaconda3/lib/python3.12/site-packages/pandas/core/generic.py:4788\u001b[0m, in \u001b[0;36mNDFrame.drop\u001b[0;34m(self, labels, axis, index, columns, level, inplace, errors)\u001b[0m\n\u001b[1;32m   4786\u001b[0m \u001b[38;5;28;01mfor\u001b[39;00m axis, labels \u001b[38;5;129;01min\u001b[39;00m axes\u001b[38;5;241m.\u001b[39mitems():\n\u001b[1;32m   4787\u001b[0m     \u001b[38;5;28;01mif\u001b[39;00m labels \u001b[38;5;129;01mis\u001b[39;00m \u001b[38;5;129;01mnot\u001b[39;00m \u001b[38;5;28;01mNone\u001b[39;00m:\n\u001b[0;32m-> 4788\u001b[0m         obj \u001b[38;5;241m=\u001b[39m obj\u001b[38;5;241m.\u001b[39m_drop_axis(labels, axis, level\u001b[38;5;241m=\u001b[39mlevel, errors\u001b[38;5;241m=\u001b[39merrors)\n\u001b[1;32m   4790\u001b[0m \u001b[38;5;28;01mif\u001b[39;00m inplace:\n\u001b[1;32m   4791\u001b[0m     \u001b[38;5;28mself\u001b[39m\u001b[38;5;241m.\u001b[39m_update_inplace(obj)\n",
      "File \u001b[0;32m/opt/anaconda3/lib/python3.12/site-packages/pandas/core/generic.py:4830\u001b[0m, in \u001b[0;36mNDFrame._drop_axis\u001b[0;34m(self, labels, axis, level, errors, only_slice)\u001b[0m\n\u001b[1;32m   4828\u001b[0m         new_axis \u001b[38;5;241m=\u001b[39m axis\u001b[38;5;241m.\u001b[39mdrop(labels, level\u001b[38;5;241m=\u001b[39mlevel, errors\u001b[38;5;241m=\u001b[39merrors)\n\u001b[1;32m   4829\u001b[0m     \u001b[38;5;28;01melse\u001b[39;00m:\n\u001b[0;32m-> 4830\u001b[0m         new_axis \u001b[38;5;241m=\u001b[39m axis\u001b[38;5;241m.\u001b[39mdrop(labels, errors\u001b[38;5;241m=\u001b[39merrors)\n\u001b[1;32m   4831\u001b[0m     indexer \u001b[38;5;241m=\u001b[39m axis\u001b[38;5;241m.\u001b[39mget_indexer(new_axis)\n\u001b[1;32m   4833\u001b[0m \u001b[38;5;66;03m# Case for non-unique axis\u001b[39;00m\n\u001b[1;32m   4834\u001b[0m \u001b[38;5;28;01melse\u001b[39;00m:\n",
      "File \u001b[0;32m/opt/anaconda3/lib/python3.12/site-packages/pandas/core/indexes/base.py:7070\u001b[0m, in \u001b[0;36mIndex.drop\u001b[0;34m(self, labels, errors)\u001b[0m\n\u001b[1;32m   7068\u001b[0m \u001b[38;5;28;01mif\u001b[39;00m mask\u001b[38;5;241m.\u001b[39many():\n\u001b[1;32m   7069\u001b[0m     \u001b[38;5;28;01mif\u001b[39;00m errors \u001b[38;5;241m!=\u001b[39m \u001b[38;5;124m\"\u001b[39m\u001b[38;5;124mignore\u001b[39m\u001b[38;5;124m\"\u001b[39m:\n\u001b[0;32m-> 7070\u001b[0m         \u001b[38;5;28;01mraise\u001b[39;00m \u001b[38;5;167;01mKeyError\u001b[39;00m(\u001b[38;5;124mf\u001b[39m\u001b[38;5;124m\"\u001b[39m\u001b[38;5;132;01m{\u001b[39;00mlabels[mask]\u001b[38;5;241m.\u001b[39mtolist()\u001b[38;5;132;01m}\u001b[39;00m\u001b[38;5;124m not found in axis\u001b[39m\u001b[38;5;124m\"\u001b[39m)\n\u001b[1;32m   7071\u001b[0m     indexer \u001b[38;5;241m=\u001b[39m indexer[\u001b[38;5;241m~\u001b[39mmask]\n\u001b[1;32m   7072\u001b[0m \u001b[38;5;28;01mreturn\u001b[39;00m \u001b[38;5;28mself\u001b[39m\u001b[38;5;241m.\u001b[39mdelete(indexer)\n",
      "\u001b[0;31mKeyError\u001b[0m: \"['risk_level'] not found in axis\""
     ]
    }
   ],
   "source": [
    "#importing necessary libraries to operate the notebook\n",
    "import pandas as pd\n",
    "import numpy as np\n",
    "import sklearn \n",
    "from sklearn.model_selection import train_test_split\n",
    "from sklearn.tree import DecisionTreeClassifier\n",
    "from sklearn.metrics import confusion_matrix, classification_report, accuracy_score\n",
    "#from sklearn.preprocessing import LabelEncoder\n",
    "\n",
    "# Step 1: Load your data\n",
    "# For demonstration, we’ll assume your dataset is a CSV file\n",
    "#import the train data\n",
    "data = pd.read_csv('train_v2.csv')\n",
    "\n",
    "#inspecting the data, and let it be noted that this dataset has been anonymized to protect personal/sensitive information on applicants\n",
    "data.info()\n",
    "\n",
    "# Step 2: Preprocess the data\n",
    "# Handle missing values, categorical encoding, feature scaling, etc.\n",
    "# Encode categorical target variable if necessary but not necessary for this data set\n",
    "#for this dataset, there is not quite a need to scale the data\n",
    "\n",
    "\n",
    "# Step 3: Train a classifier\n",
    "classifier = DecisionTreeClassifier(random_state=42)\n",
    "classifier.fit(X_train, y_train)\n",
    "\n",
    "# Step 4: Make predictions\n",
    "y_pred = classifier.predict(X_test)\n",
    "\n",
    "# Step 5: Evaluate the model\n",
    "print(\"Accuracy:\", accuracy_score(y_test, y_pred))\n",
    "print(\"\\nClassification Report:\\n\", classification_report(y_test, y_pred, target_names=label_encoder.classes_))\n",
    "\n",
    "# Step 6: Optionally, test with new data\n",
    "# new_data = pd.DataFrame({...})\n",
    "# predictions = classifier.predict(new_data)\n",
    "# decoded_predictions = label_encoder.inverse_transform(predictions)\n",
    "# print(decoded_predictions)\n"
   ]
  },
  {
   "cell_type": "code",
   "execution_count": null,
   "id": "ad99493a-f7f8-4265-bc14-131a83a72ff0",
   "metadata": {},
   "outputs": [],
   "source": [
    "from sklearn.preprocessing import StandardScaler\n",
    "\n",
    "data.head()\n",
    "\n",
    "# Initialise the Scaler\n",
    "scaler = StandardScaler()\n",
    "\n",
    "# To scale data\n",
    "scaler.fit(data)\n"
   ]
  },
  {
   "cell_type": "code",
   "execution_count": null,
   "id": "b6a89abb-3352-40d9-bfc4-32d439c051c4",
   "metadata": {},
   "outputs": [],
   "source": [
    "from sklearn.model_selection import train_test_split\n",
    "# Splitting the data into training and testing sets\n",
    "X_train, X_test, y_train, y_test = train_test_split(X, y, test_size=0.2, random_state=42)\n",
    "\n",
    "# Create a decision tree classifier\n",
    "clf = DecisionTreeClassifier()\n",
    "\n",
    "# Train the classifier\n",
    "clf.fit(X_train, y_train)\n",
    "\n",
    "# Make predictions on the test set\n",
    "#import the test data\n",
    "y_pred = clf.predict(X_test)"
   ]
  },
  {
   "cell_type": "code",
   "execution_count": null,
   "id": "0d4fb75e-7dfa-4e18-bd14-e2a423d16114",
   "metadata": {},
   "outputs": [],
   "source": [
    "from sklearn.preprocessing import StandardScaler, MinMaxScaler\n",
    "\n",
    "# Assume `data` is a DataFrame with numerical columns that need scaling\n",
    "data = pd.read_csv('test_v2.csv')\n",
    "    'feature1': [100, 200, 300, 400],\n",
    "    'feature2': [5, 15, 25, 35],\n",
    "    'feature3': [1, 2, 3, 4]\n",
    "})\n",
    "\n",
    "# Option 1: Standard Scaling\n",
    "standard_scaler = StandardScaler()\n",
    "data_standard_scaled = standard_scaler.fit_transform(data)\n",
    "data_standard_scaled = pd.read_csv('test_v2.csv')(data_standard_scaled, columns=data.columns)\n",
    "print(\"Standard Scaled Data:\\n\", data_standard_scaled)\n",
    "\n",
    "# Option 2: Min-Max Scaling\n",
    "min_max_scaler = MinMaxScaler()\n",
    "data_min_max_scaled = min_max_scaler.fit_transform(data)\n",
    "data_min_max_scaled = pd.read_csv('test_v2.csv')(data_min_max_scaled, columns=data.columns)\n",
    "print(\"\\nMin-Max Scaled Data:\\n\", data_min_max_scaled)\n"
   ]
  },
  {
   "cell_type": "code",
   "execution_count": 11,
   "id": "c2111a4b-78d2-4c30-be8c-5fc6cda36b4b",
   "metadata": {},
   "outputs": [
    {
     "name": "stderr",
     "output_type": "stream",
     "text": [
      "/var/folders/bq/h8xt131n1hq10lhdtgj7xd380000gn/T/ipykernel_61988/1330881223.py:4: DtypeWarning: Columns (135,204,274,417) have mixed types. Specify dtype option on import or set low_memory=False.\n",
      "  data = pd.read_csv('train_v2.csv')\n"
     ]
    },
    {
     "data": {
      "image/png": "[encoded data removed]",
      "text/plain": [
       "<Figure size 640x480 with 1 Axes>"
      ]
     },
     "metadata": {},
     "output_type": "display_data"
    }
   ],
   "source": [
    "import matplotlib.pyplot as plt\n",
    "\n",
    "#loading the training and testing data to attempt to Visualize key relationships and trends\n",
    "data = pd.read_csv('train_v2.csv')\n",
    "data = pd.read_csv('test_v2.csv')\n",
    "\n",
    "# Create the histogram\n",
    "#plt.hist(data, bins=30)\n",
    "plt.xlabel('f1')\n",
    "plt.ylabel('f2')\n",
    "plt.title('Histogram Example')\n",
    "plt.show()"
   ]
  },
  {
   "cell_type": "code",
   "execution_count": 3,
   "id": "94b1117b-78d3-45ea-b472-d7b10ace081c",
   "metadata": {},
   "outputs": [
    {
     "name": "stderr",
     "output_type": "stream",
     "text": [
      "/var/folders/bq/h8xt131n1hq10lhdtgj7xd380000gn/T/ipykernel_61988/498821346.py:2: DtypeWarning: Columns (417) have mixed types. Specify dtype option on import or set low_memory=False.\n",
      "  pd.read_csv('test_v2.csv').dropna\n"
     ]
    },
    {
     "data": {
      "text/plain": [
       "<bound method DataFrame.dropna of             id   f1  f2        f3    f4    f5     f6      f7       f8      f9  \\\n",
       "0       105472  147   6  0.487058  1100  17.0  75506   964.0  12686.0  152.63   \n",
       "1       105473  156   6  0.728518  5400   3.0  79754  1455.0   4803.0  153.95   \n",
       "2       105474  132   9  0.898133  2200  16.0    113  5735.0   2387.0  130.61   \n",
       "3       105475  128   7  0.038411  1300   4.0   3793  4689.0   3469.0  120.50   \n",
       "4       105476  119  10  0.443620  1300  16.0  13026  2788.0   7438.0  127.00   \n",
       "...        ...  ...  ..       ...   ...   ...    ...     ...      ...     ...   \n",
       "210939  316411  140   9  0.802220  3600  10.0   9836   831.0    491.0  128.28   \n",
       "210940  316412  154   9  0.477440  3600   3.0  80502  4283.0    280.0  154.13   \n",
       "210941  316413  150   8  0.480407  4400   7.0  14507    78.0   1502.0  150.75   \n",
       "210942  316414  135   8  0.223248  2700  16.0  13700  9572.0   5151.0  131.42   \n",
       "210943  316415  166   7  0.870420  5300   4.0  81409  1584.0   2823.0  161.68   \n",
       "\n",
       "        ...   f769  f770   f771   f772   f773    f774    f775  f776  f777  \\\n",
       "0       ...  -8.71    19   3.30  -9.37   0.50  0.0539 -1.0733     0     1   \n",
       "1       ... -13.26    24   9.53  -7.55   6.22  0.3030  0.6087     0     1   \n",
       "2       ...  -4.99     9   3.25  -2.33   1.69  0.2317  0.4184     0     0   \n",
       "3       ... -16.83    11   0.26  -5.31   0.78  0.2826 -0.7711     0     0   \n",
       "4       ... -20.00    10  13.55  -0.61   0.01  0.1815 -1.0843     0     0   \n",
       "...     ...    ...   ...    ...    ...    ...     ...     ...   ...   ...   \n",
       "210939  ... -12.54     3   6.22  -4.55   7.01  0.2130 -0.7890     0     1   \n",
       "210940  ...  -9.64    20   5.98  -4.13   3.02  0.2582  0.4792     1     1   \n",
       "210941  ...  -1.12     4   0.41  -0.16   0.08  0.1552  0.8375     1     1   \n",
       "210942  ... -29.81    51  20.39 -15.14  11.75  0.2411  0.7004     0     0   \n",
       "210943  ...  -7.02    10   5.83  -4.96   4.30  0.3003  1.1379     0     1   \n",
       "\n",
       "        f778  \n",
       "0       1079  \n",
       "1         36  \n",
       "2        393  \n",
       "3        394  \n",
       "4         23  \n",
       "...      ...  \n",
       "210939    13  \n",
       "210940    41  \n",
       "210941    20  \n",
       "210942   513  \n",
       "210943  1212  \n",
       "\n",
       "[210944 rows x 770 columns]>"
      ]
     },
     "execution_count": 3,
     "metadata": {},
     "output_type": "execute_result"
    }
   ],
   "source": [
    "#dropping missing values to clean the data\n",
    "pd.read_csv('test_v2.csv').dropna"
   ]
  },
  {
   "cell_type": "code",
   "execution_count": 9,
   "id": "58e62b11-b013-47d9-be19-b208a7ea6734",
   "metadata": {},
   "outputs": [
    {
     "ename": "NameError",
     "evalue": "name 'f2' is not defined",
     "output_type": "error",
     "traceback": [
      "\u001b[0;31m---------------------------------------------------------------------------\u001b[0m",
      "\u001b[0;31mNameError\u001b[0m                                 Traceback (most recent call last)",
      "Cell \u001b[0;32mIn[9], line 3\u001b[0m\n\u001b[1;32m      1\u001b[0m \u001b[38;5;66;03m#Visualize key relationships and trends using boxplot\u001b[39;00m\n\u001b[1;32m      2\u001b[0m \u001b[38;5;28;01mimport\u001b[39;00m \u001b[38;5;21;01mseaborn\u001b[39;00m \u001b[38;5;28;01mas\u001b[39;00m \u001b[38;5;21;01msns\u001b[39;00m\n\u001b[0;32m----> 3\u001b[0m sns\u001b[38;5;241m.\u001b[39mboxplot(\u001b[38;5;124m'\u001b[39m\u001b[38;5;124mtrain_v2.csv\u001b[39m\u001b[38;5;124m'\u001b[39m[f2])\n",
      "\u001b[0;31mNameError\u001b[0m: name 'f2' is not defined"
     ]
    }
   ],
   "source": [
    "#Visualize key relationships and trends using boxplot to be able to remove outliers in another cell of code\n",
    "\n",
    "import seaborn as sns\n",
    "sns.boxplot('test_v2.csv'[f2])"
   ]
  },
  {
   "cell_type": "code",
   "execution_count": null,
   "id": "3e10acb7-7977-495f-ac03-188f1a0f5559",
   "metadata": {},
   "outputs": [],
   "source": [
    "#seeking to remove outliers for cleaner data\n",
    "import seaborn as sns\n",
    "import matplotlib.pyplot as plt\n",
    "\n",
    "\n",
    "def removal_box_plot(df, column, threshold):\n",
    "    sns.boxplot(df[column])\n",
    "    plt.title(f'Original Box Plot of {column}')\n",
    "    plt.show()\n",
    "\n",
    "    removed_outliers = df[df[column] <= threshold]\n",
    "\n",
    "    sns.boxplot(removed_outliers[column])\n",
    "    plt.title(f'Box Plot without Outliers of {column}')\n",
    "    plt.show()\n",
    "    return removed_outliers\n",
    "\n",
    "\n",
    "threshold_value = 0.12\n",
    "\n",
    "no_outliers = removal_box_plot(df_diabetics, 'bmi', threshold_value)"
   ]
  },
  {
   "cell_type": "code",
   "execution_count": null,
   "id": "730aa31a-9871-4ce3-967e-92d51b4b5eb7",
   "metadata": {},
   "outputs": [],
   "source": [
    "#seeking to train the decision tree model\n",
    "estimator.get_params()\n",
    "\n",
    "#training the decision tree model with a grid search\n",
    "param_grid = [\n",
    "  {'C': [1, 10, 100, 1000], 'kernel': ['linear']},\n",
    "  {'C': [1, 10, 100, 1000], 'gamma': [0.001, 0.0001], 'kernel': ['rbf']},\n",
    " ]"
   ]
  },
  {
   "cell_type": "code",
   "execution_count": 5,
   "id": "82bc50ed-1e26-4948-bb26-9ec88e57b935",
   "metadata": {},
   "outputs": [
    {
     "ename": "NameError",
     "evalue": "name 'y_true' is not defined",
     "output_type": "error",
     "traceback": [
      "\u001b[0;31m---------------------------------------------------------------------------\u001b[0m",
      "\u001b[0;31mNameError\u001b[0m                                 Traceback (most recent call last)",
      "Cell \u001b[0;32mIn[5], line 2\u001b[0m\n\u001b[1;32m      1\u001b[0m \u001b[38;5;28;01mfrom\u001b[39;00m \u001b[38;5;21;01msklearn\u001b[39;00m\u001b[38;5;21;01m.\u001b[39;00m\u001b[38;5;21;01mmetrics\u001b[39;00m \u001b[38;5;28;01mimport\u001b[39;00m accuracy_score\n\u001b[0;32m----> 2\u001b[0m accuracy \u001b[38;5;241m=\u001b[39m accuracy_score(y_true, y_pred)\n\u001b[1;32m      4\u001b[0m \u001b[38;5;28;01mfrom\u001b[39;00m \u001b[38;5;21;01msklearn\u001b[39;00m\u001b[38;5;21;01m.\u001b[39;00m\u001b[38;5;21;01mmetrics\u001b[39;00m \u001b[38;5;28;01mimport\u001b[39;00m precision_score\n\u001b[1;32m      5\u001b[0m precision \u001b[38;5;241m=\u001b[39m precision_score(y_true, y_pred)\n",
      "\u001b[0;31mNameError\u001b[0m: name 'y_true' is not defined"
     ]
    }
   ],
   "source": [
    "#Evaluate the performance of the decision tree model on the testing dataset\n",
    "from sklearn.metrics import accuracy_score\n",
    "accuracy = accuracy_score(y_true, y_pred)\n",
    "\n",
    "from sklearn.metrics import precision_score\n",
    "precision = precision_score(y_true, y_pred)\n",
    "\n",
    "from sklearn.metrics import recall_score\n",
    "recall = recall_score(y_true, y_pred)\n",
    "\n",
    "from sklearn.metrics import f1_score\n",
    "f1 = f1_score(y_true, y_pred)"
   ]
  },
  {
   "cell_type": "code",
   "execution_count": null,
   "id": "0dd5ac1c-e13e-48f0-a3f4-4a5dd70eb42a",
   "metadata": {},
   "outputs": [],
   "source": [
    "#sought to use cross validation to validate the performance of the decision tree model\n",
    "from sklearn.model_selection import ShuffleSplit\n",
    "n_samples = X.shape[0]\n",
    "cv = ShuffleSplit(n_splits=5, test_size=0.3, random_state=0)\n",
    "cross_val_score(clf, X, y, cv=cv)"
   ]
  }
 ],
 "metadata": {
  "kernelspec": {
   "display_name": "Python 3 (ipykernel)",
   "language": "python",
   "name": "python3"
  },
  "language_info": {
   "codemirror_mode": {
    "name": "ipython",
    "version": 3
   },
   "file_extension": ".py",
   "mimetype": "text/x-python",
   "name": "python",
   "nbconvert_exporter": "python",
   "pygments_lexer": "ipython3",
   "version": "3.12.4"
  }
 },
 "nbformat": 4,
 "nbformat_minor": 5
}
